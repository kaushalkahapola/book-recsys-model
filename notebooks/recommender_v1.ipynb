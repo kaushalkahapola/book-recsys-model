{
 "cells": [
  {
   "cell_type": "code",
   "execution_count": 1,
   "metadata": {},
   "outputs": [
    {
     "name": "stderr",
     "output_type": "stream",
     "text": [
      "/var/folders/zc/51jtshy91712t6pn90n8n0mr0000gn/T/ipykernel_90522/4080736814.py:1: DeprecationWarning: \n",
      "Pyarrow will become a required dependency of pandas in the next major release of pandas (pandas 3.0),\n",
      "(to allow more performant data types, such as the Arrow string type, and better interoperability with other libraries)\n",
      "but was not found to be installed on your system.\n",
      "If this would cause problems for you,\n",
      "please provide us feedback at https://github.com/pandas-dev/pandas/issues/54466\n",
      "        \n",
      "  import pandas as pd\n"
     ]
    }
   ],
   "source": [
    "import pandas as pd"
   ]
  },
  {
   "cell_type": "code",
   "execution_count": 2,
   "metadata": {},
   "outputs": [
    {
     "data": {
      "text/html": [
       "<div>\n",
       "<style scoped>\n",
       "    .dataframe tbody tr th:only-of-type {\n",
       "        vertical-align: middle;\n",
       "    }\n",
       "\n",
       "    .dataframe tbody tr th {\n",
       "        vertical-align: top;\n",
       "    }\n",
       "\n",
       "    .dataframe thead th {\n",
       "        text-align: right;\n",
       "    }\n",
       "</style>\n",
       "<table border=\"1\" class=\"dataframe\">\n",
       "  <thead>\n",
       "    <tr style=\"text-align: right;\">\n",
       "      <th></th>\n",
       "      <th>User-ID</th>\n",
       "      <th>Book-ID</th>\n",
       "      <th>Book-Rating</th>\n",
       "    </tr>\n",
       "  </thead>\n",
       "  <tbody>\n",
       "    <tr>\n",
       "      <th>0</th>\n",
       "      <td>87555</td>\n",
       "      <td>39877</td>\n",
       "      <td>0</td>\n",
       "    </tr>\n",
       "    <tr>\n",
       "      <th>1</th>\n",
       "      <td>55490</td>\n",
       "      <td>184467</td>\n",
       "      <td>10</td>\n",
       "    </tr>\n",
       "    <tr>\n",
       "      <th>2</th>\n",
       "      <td>139819</td>\n",
       "      <td>184467</td>\n",
       "      <td>0</td>\n",
       "    </tr>\n",
       "    <tr>\n",
       "      <th>3</th>\n",
       "      <td>150124</td>\n",
       "      <td>184467</td>\n",
       "      <td>0</td>\n",
       "    </tr>\n",
       "    <tr>\n",
       "      <th>4</th>\n",
       "      <td>152016</td>\n",
       "      <td>184467</td>\n",
       "      <td>0</td>\n",
       "    </tr>\n",
       "  </tbody>\n",
       "</table>\n",
       "</div>"
      ],
      "text/plain": [
       "   User-ID  Book-ID  Book-Rating\n",
       "0    87555    39877            0\n",
       "1    55490   184467           10\n",
       "2   139819   184467            0\n",
       "3   150124   184467            0\n",
       "4   152016   184467            0"
      ]
     },
     "execution_count": 2,
     "metadata": {},
     "output_type": "execute_result"
    }
   ],
   "source": [
    "ratings_df = pd.read_csv('../data/minified/cleaned_ratings_reduced.csv')\n",
    "ratings_df.head()"
   ]
  },
  {
   "cell_type": "code",
   "execution_count": 3,
   "metadata": {},
   "outputs": [
    {
     "data": {
      "text/plain": [
       "Book-Rating\n",
       "0     357518\n",
       "8      54946\n",
       "10     39754\n",
       "7      38023\n",
       "9      36922\n",
       "5      22298\n",
       "6      17583\n",
       "4       4140\n",
       "3       2793\n",
       "2       1262\n",
       "1        767\n",
       "Name: count, dtype: int64"
      ]
     },
     "execution_count": 3,
     "metadata": {},
     "output_type": "execute_result"
    }
   ],
   "source": [
    "# Look at the ratings column of the ratings table\n",
    "\n",
    "ratings_df['Book-Rating'].value_counts()"
   ]
  },
  {
   "cell_type": "code",
   "execution_count": 4,
   "metadata": {},
   "outputs": [
    {
     "data": {
      "text/plain": [
       "68787"
      ]
     },
     "execution_count": 4,
     "metadata": {},
     "output_type": "execute_result"
    }
   ],
   "source": [
    "ratings_df[\"User-ID\"].nunique()"
   ]
  },
  {
   "cell_type": "markdown",
   "metadata": {},
   "source": [
    "We can see that the ratings have been made 1-10"
   ]
  },
  {
   "cell_type": "code",
   "execution_count": 5,
   "metadata": {},
   "outputs": [
    {
     "data": {
      "text/html": [
       "<div>\n",
       "<style scoped>\n",
       "    .dataframe tbody tr th:only-of-type {\n",
       "        vertical-align: middle;\n",
       "    }\n",
       "\n",
       "    .dataframe tbody tr th {\n",
       "        vertical-align: top;\n",
       "    }\n",
       "\n",
       "    .dataframe thead th {\n",
       "        text-align: right;\n",
       "    }\n",
       "</style>\n",
       "<table border=\"1\" class=\"dataframe\">\n",
       "  <thead>\n",
       "    <tr style=\"text-align: right;\">\n",
       "      <th></th>\n",
       "      <th>Book-ID</th>\n",
       "      <th>Book-Title</th>\n",
       "      <th>Book-Author</th>\n",
       "    </tr>\n",
       "  </thead>\n",
       "  <tbody>\n",
       "    <tr>\n",
       "      <th>0</th>\n",
       "      <td>39877</td>\n",
       "      <td>Count of Monte Cristo</td>\n",
       "      <td>A Dumas</td>\n",
       "    </tr>\n",
       "    <tr>\n",
       "      <th>1</th>\n",
       "      <td>184467</td>\n",
       "      <td>The Dragon and the Unicorn</td>\n",
       "      <td>A. A. Attanasio</td>\n",
       "    </tr>\n",
       "    <tr>\n",
       "      <th>2</th>\n",
       "      <td>231910</td>\n",
       "      <td>When We Were Very Young</td>\n",
       "      <td>A. A. Milne</td>\n",
       "    </tr>\n",
       "    <tr>\n",
       "      <th>3</th>\n",
       "      <td>234898</td>\n",
       "      <td>Winnie the Pooh</td>\n",
       "      <td>A. A. Milne</td>\n",
       "    </tr>\n",
       "    <tr>\n",
       "      <th>4</th>\n",
       "      <td>191108</td>\n",
       "      <td>The House at Pooh Corner</td>\n",
       "      <td>A. A. Milne</td>\n",
       "    </tr>\n",
       "  </tbody>\n",
       "</table>\n",
       "</div>"
      ],
      "text/plain": [
       "   Book-ID                  Book-Title      Book-Author\n",
       "0    39877       Count of Monte Cristo          A Dumas\n",
       "1   184467  The Dragon and the Unicorn  A. A. Attanasio\n",
       "2   231910     When We Were Very Young      A. A. Milne\n",
       "3   234898             Winnie the Pooh      A. A. Milne\n",
       "4   191108    The House at Pooh Corner      A. A. Milne"
      ]
     },
     "execution_count": 5,
     "metadata": {},
     "output_type": "execute_result"
    }
   ],
   "source": [
    "books_df = pd.read_csv('../data/minified/cleaned_books_reduced.csv')\n",
    "books_df.head()"
   ]
  },
  {
   "cell_type": "code",
   "execution_count": 6,
   "metadata": {},
   "outputs": [],
   "source": [
    "#TODO\n",
    "\n",
    "# Book title has been duplicated since the same book has been published multiple times\n",
    "\n",
    "# IMPORTANT: \n",
    "# Remove duplicates and replace the title with the most recent publication, \n",
    "# replace the ISBN of the ratings table with the ISBN of the most recent publication\n",
    "\n",
    "# Remove books that have been rated less than 10 times <- Check on this (not sure if its necessary just yet)\n",
    "# Same with this -> Remove users that have rated less than 10 books\n",
    "#       By simply looking at the data we can see that there are users that have not rated any books \n",
    "#       (close to 50% of the users have not rated any books)"
   ]
  },
  {
   "cell_type": "code",
   "execution_count": 7,
   "metadata": {},
   "outputs": [
    {
     "data": {
      "text/html": [
       "<div>\n",
       "<style scoped>\n",
       "    .dataframe tbody tr th:only-of-type {\n",
       "        vertical-align: middle;\n",
       "    }\n",
       "\n",
       "    .dataframe tbody tr th {\n",
       "        vertical-align: top;\n",
       "    }\n",
       "\n",
       "    .dataframe thead th {\n",
       "        text-align: right;\n",
       "    }\n",
       "</style>\n",
       "<table border=\"1\" class=\"dataframe\">\n",
       "  <thead>\n",
       "    <tr style=\"text-align: right;\">\n",
       "      <th></th>\n",
       "      <th>Book-Title</th>\n",
       "      <th>Book-Author</th>\n",
       "      <th>User-ID</th>\n",
       "      <th>Book-Rating</th>\n",
       "    </tr>\n",
       "  </thead>\n",
       "  <tbody>\n",
       "    <tr>\n",
       "      <th>0</th>\n",
       "      <td>Count of Monte Cristo</td>\n",
       "      <td>A Dumas</td>\n",
       "      <td>87555</td>\n",
       "      <td>0</td>\n",
       "    </tr>\n",
       "    <tr>\n",
       "      <th>1</th>\n",
       "      <td>The Dragon and the Unicorn</td>\n",
       "      <td>A. A. Attanasio</td>\n",
       "      <td>55490</td>\n",
       "      <td>10</td>\n",
       "    </tr>\n",
       "    <tr>\n",
       "      <th>2</th>\n",
       "      <td>The Dragon and the Unicorn</td>\n",
       "      <td>A. A. Attanasio</td>\n",
       "      <td>139819</td>\n",
       "      <td>0</td>\n",
       "    </tr>\n",
       "    <tr>\n",
       "      <th>3</th>\n",
       "      <td>The Dragon and the Unicorn</td>\n",
       "      <td>A. A. Attanasio</td>\n",
       "      <td>150124</td>\n",
       "      <td>0</td>\n",
       "    </tr>\n",
       "    <tr>\n",
       "      <th>4</th>\n",
       "      <td>The Dragon and the Unicorn</td>\n",
       "      <td>A. A. Attanasio</td>\n",
       "      <td>152016</td>\n",
       "      <td>0</td>\n",
       "    </tr>\n",
       "  </tbody>\n",
       "</table>\n",
       "</div>"
      ],
      "text/plain": [
       "                   Book-Title      Book-Author  User-ID  Book-Rating\n",
       "0       Count of Monte Cristo          A Dumas    87555            0\n",
       "1  The Dragon and the Unicorn  A. A. Attanasio    55490           10\n",
       "2  The Dragon and the Unicorn  A. A. Attanasio   139819            0\n",
       "3  The Dragon and the Unicorn  A. A. Attanasio   150124            0\n",
       "4  The Dragon and the Unicorn  A. A. Attanasio   152016            0"
      ]
     },
     "execution_count": 7,
     "metadata": {},
     "output_type": "execute_result"
    }
   ],
   "source": [
    "# Combine the books and the ratings dataframes using ISBN\n",
    "# Keep only the columns Book-Title, Book-Author, Year-Of-Publication, Publisher, User-ID, Book-Rating\n",
    "\n",
    "combined_df = pd.merge(ratings_df, books_df, on='Book-ID')[['Book-Title', 'Book-Author', 'User-ID', 'Book-Rating']]\n",
    "\n",
    "combined_df.head()"
   ]
  },
  {
   "cell_type": "code",
   "execution_count": 8,
   "metadata": {},
   "outputs": [
    {
     "data": {
      "text/plain": [
       "Book-Title\n",
       "The Da Vinci Code                                                   160\n",
       "Harry Potter and the Sorcerer's Stone (Harry Potter (Paperback))    152\n",
       "Harry Potter and the Prisoner of Azkaban (Book 3)                   150\n",
       "The Lovely Bones: A Novel                                           148\n",
       "Harry Potter and the Chamber of Secrets (Book 2)                    139\n",
       "Harry Potter and the Goblet of Fire (Book 4)                        136\n",
       "To Kill a Mockingbird                                               133\n",
       "Harry Potter and the Order of the Phoenix (Book 5)                  115\n",
       "The Secret Life of Bees                                             112\n",
       "The Fellowship of the Ring (The Lord of the Rings, Part 1)          103\n",
       "dtype: int64"
      ]
     },
     "execution_count": 8,
     "metadata": {},
     "output_type": "execute_result"
    }
   ],
   "source": [
    "# The books with the highest 10/10 ratings\n",
    "combined_df[combined_df['Book-Rating'] >= 10].groupby('Book-Title').size().sort_values(ascending=False).head(10)"
   ]
  },
  {
   "cell_type": "code",
   "execution_count": 9,
   "metadata": {},
   "outputs": [],
   "source": [
    "from sklearn.feature_extraction.text import TfidfVectorizer\n",
    "vectorizer = TfidfVectorizer(ngram_range=(1,2))\n",
    "\n",
    "tfidf = vectorizer.fit_transform(books_df['Book-Title'])"
   ]
  },
  {
   "cell_type": "code",
   "execution_count": 10,
   "metadata": {},
   "outputs": [],
   "source": [
    "from sklearn.metrics.pairwise import cosine_similarity\n",
    "import numpy as np\n",
    "\n",
    "def search(title, result_count=5):\n",
    "    query_vec = vectorizer.transform([title])\n",
    "    similarity = cosine_similarity(query_vec, tfidf).flatten()\n",
    "    indices = np.argpartition(similarity, -1 * result_count)[-1 * result_count:]\n",
    "    results = books_df.iloc[indices].iloc[::-1][\"Book-Title\"]\n",
    "    \n",
    "    return results"
   ]
  },
  {
   "cell_type": "code",
   "execution_count": 11,
   "metadata": {},
   "outputs": [
    {
     "data": {
      "text/plain": [
       "7130       Harry Potter and the Sorcerer's Stone (Book 1)\n",
       "7133         Harry Potter and the Goblet of Fire (Book 4)\n",
       "7137    Harry Potter and the Sorcerer's Stone (Harry P...\n",
       "7233    Harry Potter and the Prisoner of Azkaban (Harr...\n",
       "7139     Harry Potter and the Chamber of Secrets (Book 2)\n",
       "7141    Harry Potter and the Order of the Phoenix (Boo...\n",
       "7146    Harry Potter and the Prisoner of Azkaban (Book 3)\n",
       "7142    Harry Potter and the Sorcerer's Stone (Book 1 ...\n",
       "7140    Harry Potter and the Chamber of Secrets Postca...\n",
       "8576                      Harry Potter Und Der Feuerkelch\n",
       "Name: Book-Title, dtype: object"
      ]
     },
     "execution_count": 11,
     "metadata": {},
     "output_type": "execute_result"
    }
   ],
   "source": [
    "# Test the search function\n",
    "search('harry potter and the', result_count=10)"
   ]
  },
  {
   "cell_type": "code",
   "execution_count": 12,
   "metadata": {},
   "outputs": [],
   "source": [
    "def get_similar_users(title, rating_threshold=8):\n",
    "    similar_users = combined_df[combined_df['Book-Title'] == title].where(combined_df['Book-Rating'] >= rating_threshold)[\"User-ID\"].unique()\n",
    "    # Change the user_id to int\n",
    "    similar_users = similar_users.astype(int)\n",
    "    return similar_users"
   ]
  },
  {
   "cell_type": "code",
   "execution_count": 13,
   "metadata": {},
   "outputs": [],
   "source": [
    "def get_recommendations_from_similar_users(similar_users, rating_lower_bound=8, minimum_similarity=0.03, normalize=False, count=None):\n",
    "    \"\"\"\n",
    "    Get the recommendations for a user based on the similar users\n",
    "\n",
    "    Inputs:\n",
    "    similar_users: list of similar users\n",
    "    minimum_similarity: minimum similarity to consider a movie (0 < minimum_similarity < 1)\n",
    "\n",
    "    Returnds:\n",
    "    similar_user_recs: list of recommended movies\n",
    "    \"\"\"\n",
    "\n",
    "    similar_users_recommendations = combined_df[combined_df['User-ID'].isin(similar_users) & (combined_df['Book-Rating'] >= rating_lower_bound\n",
    "                                                                                            )][\"Book-Title\"]\n",
    "\n",
    "    # Get the percentage of similar users who have liked the book\n",
    "    similar_user_recs = similar_users_recommendations.value_counts() / len(similar_users)\n",
    "\n",
    "    # Filter only the books which have been liked by more than minimum_similarity of the users\n",
    "    similar_user_recs = similar_user_recs[similar_user_recs > minimum_similarity]\n",
    "\n",
    "    if not normalize:\n",
    "        if count is None:\n",
    "            return similar_user_recs\n",
    "        else:\n",
    "            return similar_user_recs.head(count)\n",
    "\n",
    "\n",
    "    # Ratings from all users\n",
    "    all_user_recs = combined_df[\"Book-Title\"].value_counts() / len(combined_df[\"User-ID\"].unique())\n",
    "\n",
    "    # Combine the similar user recommendations and all user recommendations\n",
    "    rec_percentages = pd.concat([similar_user_recs, all_user_recs], axis=1)\n",
    "    rec_percentages.columns = [\"similar\", \"all\"]\n",
    "\n",
    "    # Take only the rows where the similar users have liked the book\n",
    "    rec_percentages.dropna(inplace=True)\n",
    "\n",
    "\n",
    "    # Calculate the recommendation score by dividing the percentage of similar users who liked the movie \n",
    "    # by the percentage of all users who liked the movie\n",
    "    rec_percentages[\"score\"] = rec_percentages[\"similar\"] / rec_percentages[\"all\"]\n",
    "\n",
    "    if count is None:\n",
    "        return rec_percentages.sort_values(\"score\", ascending=False)\n",
    "    else:\n",
    "        return rec_percentages.sort_values(\"score\", ascending=False).head(count)"
   ]
  },
  {
   "cell_type": "code",
   "execution_count": 14,
   "metadata": {},
   "outputs": [],
   "source": [
    "################################################\n",
    "# Use the search feature to find the movie title\n",
    "\n",
    "# title_input = input(\"Enter title: \")\n",
    "# search_results = search(title_input, 10)\n",
    "# print(search_results)\n"
   ]
  },
  {
   "cell_type": "code",
   "execution_count": 15,
   "metadata": {},
   "outputs": [
    {
     "name": "stdout",
     "output_type": "stream",
     "text": [
      "Number of similar users:  79\n"
     ]
    },
    {
     "data": {
      "text/plain": [
       "Book-Title\n",
       "The Great Gatsby                         0.987342\n",
       "The Catcher in the Rye                   0.088608\n",
       "The Joy Luck Club                        0.075949\n",
       "Bridget Jones: The Edge of Reason        0.075949\n",
       "The Lovely Bones: A Novel                0.063291\n",
       "                                           ...   \n",
       "Dead Aim                                 0.012658\n",
       "Complicity                               0.012658\n",
       "The Wasp Factory                         0.012658\n",
       "Excession                                0.012658\n",
       "Their Eyes Were Watching God: A Novel    0.012658\n",
       "Name: count, Length: 1120, dtype: float64"
      ]
     },
     "execution_count": 15,
     "metadata": {},
     "output_type": "execute_result"
    }
   ],
   "source": [
    "# title = \"The Da Vinci Code\"\n",
    "title = \"The Great Gatsby\"\n",
    "rating_lower_bound = 8\n",
    "similar_users = get_similar_users(title, rating_threshold=rating_lower_bound)\n",
    "print(\"Number of similar users: \", len(similar_users))\n",
    "\n",
    "recommendations = get_recommendations_from_similar_users(similar_users, minimum_similarity=0.01, normalize=False)\n",
    "recommendations"
   ]
  },
  {
   "cell_type": "code",
   "execution_count": 16,
   "metadata": {},
   "outputs": [],
   "source": [
    "# Calculate the precision@K and recall@K\n",
    "\n",
    "def calculate_precision_recall_at_k(title, rating_lower_bound=8, k=10):\n",
    "    similar_users = get_similar_users(title, rating_threshold=rating_lower_bound)\n",
    "    recommendations = get_recommendations_from_similar_users(similar_users, minimum_similarity=0.01, normalize=False, count=k)\n",
    "\n",
    "    # Get the books that the user has liked\n",
    "    liked_books = combined_df[combined_df['User-ID'].isin(similar_users) & (combined_df['Book-Rating'] >= rating_lower_bound)][\"Book-Title\"].unique()\n",
    "\n",
    "    # Calculate the precision\n",
    "    if len(recommendations) == 0:\n",
    "        precision = 0\n",
    "    else:\n",
    "        precision = len(set(recommendations.index).intersection(set(liked_books))) / len(recommendations)\n",
    "\n",
    "    # Calculate the recall\n",
    "    if len(liked_books) == 0:\n",
    "        recall = 0\n",
    "    else:\n",
    "        recall = len(set(recommendations.index).intersection(set(liked_books))) / len(liked_books)\n",
    "\n",
    "    return precision, recall"
   ]
  },
  {
   "cell_type": "code",
   "execution_count": 17,
   "metadata": {},
   "outputs": [
    {
     "data": {
      "text/plain": [
       "(1.0, 0.008928571428571428)"
      ]
     },
     "execution_count": 17,
     "metadata": {},
     "output_type": "execute_result"
    }
   ],
   "source": [
    "calculate_precision_recall_at_k(title, rating_lower_bound=8, k=10)"
   ]
  },
  {
   "cell_type": "code",
   "execution_count": 18,
   "metadata": {},
   "outputs": [],
   "source": [
    "# Calculate the average precision and recall for a list of titles\n",
    "\n",
    "def calculate_average_precision_recall_at_k(titles, rating_lower_bound=8, k=10):\n",
    "    precisions = []\n",
    "    recalls = []\n",
    "\n",
    "    for title in titles:\n",
    "        precision, recall = calculate_precision_recall_at_k(title, rating_lower_bound, k)\n",
    "        precisions.append(precision)\n",
    "        recalls.append(recall)\n",
    "\n",
    "    return sum(precisions) / len(precisions), sum(recalls) / len(recalls)"
   ]
  },
  {
   "cell_type": "code",
   "execution_count": 20,
   "metadata": {},
   "outputs": [
    {
     "ename": "KeyboardInterrupt",
     "evalue": "",
     "output_type": "error",
     "traceback": [
      "\u001b[0;31m---------------------------------------------------------------------------\u001b[0m",
      "\u001b[0;31mKeyboardInterrupt\u001b[0m                         Traceback (most recent call last)",
      "Cell \u001b[0;32mIn[20], line 1\u001b[0m\n\u001b[0;32m----> 1\u001b[0m \u001b[43mcalculate_average_precision_recall_at_k\u001b[49m\u001b[43m(\u001b[49m\u001b[43mbooks_df\u001b[49m\u001b[43m[\u001b[49m\u001b[38;5;124;43m\"\u001b[39;49m\u001b[38;5;124;43mBook-Title\u001b[39;49m\u001b[38;5;124;43m\"\u001b[39;49m\u001b[43m]\u001b[49m\u001b[38;5;241;43m.\u001b[39;49m\u001b[43munique\u001b[49m\u001b[43m(\u001b[49m\u001b[43m)\u001b[49m\u001b[43m,\u001b[49m\u001b[43m \u001b[49m\u001b[43mrating_lower_bound\u001b[49m\u001b[38;5;241;43m=\u001b[39;49m\u001b[38;5;241;43m8\u001b[39;49m\u001b[43m,\u001b[49m\u001b[43m \u001b[49m\u001b[43mk\u001b[49m\u001b[38;5;241;43m=\u001b[39;49m\u001b[38;5;241;43m10\u001b[39;49m\u001b[43m)\u001b[49m\n",
      "Cell \u001b[0;32mIn[18], line 8\u001b[0m, in \u001b[0;36mcalculate_average_precision_recall_at_k\u001b[0;34m(titles, rating_lower_bound, k)\u001b[0m\n\u001b[1;32m      5\u001b[0m recalls \u001b[38;5;241m=\u001b[39m []\n\u001b[1;32m      7\u001b[0m \u001b[38;5;28;01mfor\u001b[39;00m title \u001b[38;5;129;01min\u001b[39;00m titles:\n\u001b[0;32m----> 8\u001b[0m     precision, recall \u001b[38;5;241m=\u001b[39m \u001b[43mcalculate_precision_recall_at_k\u001b[49m\u001b[43m(\u001b[49m\u001b[43mtitle\u001b[49m\u001b[43m,\u001b[49m\u001b[43m \u001b[49m\u001b[43mrating_lower_bound\u001b[49m\u001b[43m,\u001b[49m\u001b[43m \u001b[49m\u001b[43mk\u001b[49m\u001b[43m)\u001b[49m\n\u001b[1;32m      9\u001b[0m     precisions\u001b[38;5;241m.\u001b[39mappend(precision)\n\u001b[1;32m     10\u001b[0m     recalls\u001b[38;5;241m.\u001b[39mappend(recall)\n",
      "Cell \u001b[0;32mIn[16], line 4\u001b[0m, in \u001b[0;36mcalculate_precision_recall_at_k\u001b[0;34m(title, rating_lower_bound, k)\u001b[0m\n\u001b[1;32m      3\u001b[0m \u001b[38;5;28;01mdef\u001b[39;00m \u001b[38;5;21mcalculate_precision_recall_at_k\u001b[39m(title, rating_lower_bound\u001b[38;5;241m=\u001b[39m\u001b[38;5;241m8\u001b[39m, k\u001b[38;5;241m=\u001b[39m\u001b[38;5;241m10\u001b[39m):\n\u001b[0;32m----> 4\u001b[0m     similar_users \u001b[38;5;241m=\u001b[39m \u001b[43mget_similar_users\u001b[49m\u001b[43m(\u001b[49m\u001b[43mtitle\u001b[49m\u001b[43m,\u001b[49m\u001b[43m \u001b[49m\u001b[43mrating_threshold\u001b[49m\u001b[38;5;241;43m=\u001b[39;49m\u001b[43mrating_lower_bound\u001b[49m\u001b[43m)\u001b[49m\n\u001b[1;32m      5\u001b[0m     recommendations \u001b[38;5;241m=\u001b[39m get_recommendations_from_similar_users(similar_users, minimum_similarity\u001b[38;5;241m=\u001b[39m\u001b[38;5;241m0.01\u001b[39m, normalize\u001b[38;5;241m=\u001b[39m\u001b[38;5;28;01mFalse\u001b[39;00m, count\u001b[38;5;241m=\u001b[39mk)\n\u001b[1;32m      7\u001b[0m     \u001b[38;5;66;03m# Get the books that the user has liked\u001b[39;00m\n",
      "Cell \u001b[0;32mIn[12], line 2\u001b[0m, in \u001b[0;36mget_similar_users\u001b[0;34m(title, rating_threshold)\u001b[0m\n\u001b[1;32m      1\u001b[0m \u001b[38;5;28;01mdef\u001b[39;00m \u001b[38;5;21mget_similar_users\u001b[39m(title, rating_threshold\u001b[38;5;241m=\u001b[39m\u001b[38;5;241m8\u001b[39m):\n\u001b[0;32m----> 2\u001b[0m     similar_users \u001b[38;5;241m=\u001b[39m combined_df[\u001b[43mcombined_df\u001b[49m\u001b[43m[\u001b[49m\u001b[38;5;124;43m'\u001b[39;49m\u001b[38;5;124;43mBook-Title\u001b[39;49m\u001b[38;5;124;43m'\u001b[39;49m\u001b[43m]\u001b[49m\u001b[43m \u001b[49m\u001b[38;5;241;43m==\u001b[39;49m\u001b[43m \u001b[49m\u001b[43mtitle\u001b[49m]\u001b[38;5;241m.\u001b[39mwhere(combined_df[\u001b[38;5;124m'\u001b[39m\u001b[38;5;124mBook-Rating\u001b[39m\u001b[38;5;124m'\u001b[39m] \u001b[38;5;241m>\u001b[39m\u001b[38;5;241m=\u001b[39m rating_threshold)[\u001b[38;5;124m\"\u001b[39m\u001b[38;5;124mUser-ID\u001b[39m\u001b[38;5;124m\"\u001b[39m]\u001b[38;5;241m.\u001b[39munique()\n\u001b[1;32m      3\u001b[0m     \u001b[38;5;66;03m# Change the user_id to int\u001b[39;00m\n\u001b[1;32m      4\u001b[0m     similar_users \u001b[38;5;241m=\u001b[39m similar_users\u001b[38;5;241m.\u001b[39mastype(\u001b[38;5;28mint\u001b[39m)\n",
      "File \u001b[0;32m/Library/Frameworks/Python.framework/Versions/3.10/lib/python3.10/site-packages/pandas/core/ops/common.py:76\u001b[0m, in \u001b[0;36m_unpack_zerodim_and_defer.<locals>.new_method\u001b[0;34m(self, other)\u001b[0m\n\u001b[1;32m     72\u001b[0m             \u001b[38;5;28;01mreturn\u001b[39;00m \u001b[38;5;28mNotImplemented\u001b[39m\n\u001b[1;32m     74\u001b[0m other \u001b[38;5;241m=\u001b[39m item_from_zerodim(other)\n\u001b[0;32m---> 76\u001b[0m \u001b[38;5;28;01mreturn\u001b[39;00m \u001b[43mmethod\u001b[49m\u001b[43m(\u001b[49m\u001b[38;5;28;43mself\u001b[39;49m\u001b[43m,\u001b[49m\u001b[43m \u001b[49m\u001b[43mother\u001b[49m\u001b[43m)\u001b[49m\n",
      "File \u001b[0;32m/Library/Frameworks/Python.framework/Versions/3.10/lib/python3.10/site-packages/pandas/core/arraylike.py:40\u001b[0m, in \u001b[0;36mOpsMixin.__eq__\u001b[0;34m(self, other)\u001b[0m\n\u001b[1;32m     38\u001b[0m \u001b[38;5;129m@unpack_zerodim_and_defer\u001b[39m(\u001b[38;5;124m\"\u001b[39m\u001b[38;5;124m__eq__\u001b[39m\u001b[38;5;124m\"\u001b[39m)\n\u001b[1;32m     39\u001b[0m \u001b[38;5;28;01mdef\u001b[39;00m \u001b[38;5;21m__eq__\u001b[39m(\u001b[38;5;28mself\u001b[39m, other):\n\u001b[0;32m---> 40\u001b[0m     \u001b[38;5;28;01mreturn\u001b[39;00m \u001b[38;5;28;43mself\u001b[39;49m\u001b[38;5;241;43m.\u001b[39;49m\u001b[43m_cmp_method\u001b[49m\u001b[43m(\u001b[49m\u001b[43mother\u001b[49m\u001b[43m,\u001b[49m\u001b[43m \u001b[49m\u001b[43moperator\u001b[49m\u001b[38;5;241;43m.\u001b[39;49m\u001b[43meq\u001b[49m\u001b[43m)\u001b[49m\n",
      "File \u001b[0;32m/Library/Frameworks/Python.framework/Versions/3.10/lib/python3.10/site-packages/pandas/core/series.py:6099\u001b[0m, in \u001b[0;36mSeries._cmp_method\u001b[0;34m(self, other, op)\u001b[0m\n\u001b[1;32m   6096\u001b[0m lvalues \u001b[38;5;241m=\u001b[39m \u001b[38;5;28mself\u001b[39m\u001b[38;5;241m.\u001b[39m_values\n\u001b[1;32m   6097\u001b[0m rvalues \u001b[38;5;241m=\u001b[39m extract_array(other, extract_numpy\u001b[38;5;241m=\u001b[39m\u001b[38;5;28;01mTrue\u001b[39;00m, extract_range\u001b[38;5;241m=\u001b[39m\u001b[38;5;28;01mTrue\u001b[39;00m)\n\u001b[0;32m-> 6099\u001b[0m res_values \u001b[38;5;241m=\u001b[39m \u001b[43mops\u001b[49m\u001b[38;5;241;43m.\u001b[39;49m\u001b[43mcomparison_op\u001b[49m\u001b[43m(\u001b[49m\u001b[43mlvalues\u001b[49m\u001b[43m,\u001b[49m\u001b[43m \u001b[49m\u001b[43mrvalues\u001b[49m\u001b[43m,\u001b[49m\u001b[43m \u001b[49m\u001b[43mop\u001b[49m\u001b[43m)\u001b[49m\n\u001b[1;32m   6101\u001b[0m \u001b[38;5;28;01mreturn\u001b[39;00m \u001b[38;5;28mself\u001b[39m\u001b[38;5;241m.\u001b[39m_construct_result(res_values, name\u001b[38;5;241m=\u001b[39mres_name)\n",
      "File \u001b[0;32m/Library/Frameworks/Python.framework/Versions/3.10/lib/python3.10/site-packages/pandas/core/ops/array_ops.py:344\u001b[0m, in \u001b[0;36mcomparison_op\u001b[0;34m(left, right, op)\u001b[0m\n\u001b[1;32m    341\u001b[0m     \u001b[38;5;28;01mreturn\u001b[39;00m invalid_comparison(lvalues, rvalues, op)\n\u001b[1;32m    343\u001b[0m \u001b[38;5;28;01melif\u001b[39;00m lvalues\u001b[38;5;241m.\u001b[39mdtype \u001b[38;5;241m==\u001b[39m \u001b[38;5;28mobject\u001b[39m \u001b[38;5;129;01mor\u001b[39;00m \u001b[38;5;28misinstance\u001b[39m(rvalues, \u001b[38;5;28mstr\u001b[39m):\n\u001b[0;32m--> 344\u001b[0m     res_values \u001b[38;5;241m=\u001b[39m \u001b[43mcomp_method_OBJECT_ARRAY\u001b[49m\u001b[43m(\u001b[49m\u001b[43mop\u001b[49m\u001b[43m,\u001b[49m\u001b[43m \u001b[49m\u001b[43mlvalues\u001b[49m\u001b[43m,\u001b[49m\u001b[43m \u001b[49m\u001b[43mrvalues\u001b[49m\u001b[43m)\u001b[49m\n\u001b[1;32m    346\u001b[0m \u001b[38;5;28;01melse\u001b[39;00m:\n\u001b[1;32m    347\u001b[0m     res_values \u001b[38;5;241m=\u001b[39m _na_arithmetic_op(lvalues, rvalues, op, is_cmp\u001b[38;5;241m=\u001b[39m\u001b[38;5;28;01mTrue\u001b[39;00m)\n",
      "File \u001b[0;32m/Library/Frameworks/Python.framework/Versions/3.10/lib/python3.10/site-packages/pandas/core/ops/array_ops.py:129\u001b[0m, in \u001b[0;36mcomp_method_OBJECT_ARRAY\u001b[0;34m(op, x, y)\u001b[0m\n\u001b[1;32m    127\u001b[0m     result \u001b[38;5;241m=\u001b[39m libops\u001b[38;5;241m.\u001b[39mvec_compare(x\u001b[38;5;241m.\u001b[39mravel(), y\u001b[38;5;241m.\u001b[39mravel(), op)\n\u001b[1;32m    128\u001b[0m \u001b[38;5;28;01melse\u001b[39;00m:\n\u001b[0;32m--> 129\u001b[0m     result \u001b[38;5;241m=\u001b[39m \u001b[43mlibops\u001b[49m\u001b[38;5;241;43m.\u001b[39;49m\u001b[43mscalar_compare\u001b[49m\u001b[43m(\u001b[49m\u001b[43mx\u001b[49m\u001b[38;5;241;43m.\u001b[39;49m\u001b[43mravel\u001b[49m\u001b[43m(\u001b[49m\u001b[43m)\u001b[49m\u001b[43m,\u001b[49m\u001b[43m \u001b[49m\u001b[43my\u001b[49m\u001b[43m,\u001b[49m\u001b[43m \u001b[49m\u001b[43mop\u001b[49m\u001b[43m)\u001b[49m\n\u001b[1;32m    130\u001b[0m \u001b[38;5;28;01mreturn\u001b[39;00m result\u001b[38;5;241m.\u001b[39mreshape(x\u001b[38;5;241m.\u001b[39mshape)\n",
      "\u001b[0;31mKeyboardInterrupt\u001b[0m: "
     ]
    }
   ],
   "source": [
    "calculate_average_precision_recall_at_k(books_df[\"Book-Title\"].unique(), rating_lower_bound=8, k=10)"
   ]
  },
  {
   "cell_type": "code",
   "execution_count": null,
   "metadata": {},
   "outputs": [],
   "source": []
  }
 ],
 "metadata": {
  "kernelspec": {
   "display_name": ".env",
   "language": "python",
   "name": "python3"
  },
  "language_info": {
   "codemirror_mode": {
    "name": "ipython",
    "version": 3
   },
   "file_extension": ".py",
   "mimetype": "text/x-python",
   "name": "python",
   "nbconvert_exporter": "python",
   "pygments_lexer": "ipython3",
   "version": "3.10.6"
  }
 },
 "nbformat": 4,
 "nbformat_minor": 2
}
